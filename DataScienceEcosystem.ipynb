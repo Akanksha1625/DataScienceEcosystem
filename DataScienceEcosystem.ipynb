{
 "cells": [
  {
   "cell_type": "markdown",
   "id": "2498b5d1-f50a-4d60-9858-6cb6e4f3aeb9",
   "metadata": {},
   "source": [
    "# Data Science Tools and Ecosystem"
   ]
  },
  {
   "cell_type": "markdown",
   "id": "73c5fad4-cd84-419b-a816-f0de65134a6a",
   "metadata": {},
   "source": [
    "In this notebook, Data Science Tools and Ecosystem are summarized."
   ]
  },
  {
   "cell_type": "markdown",
   "id": "9cabe5f1-bd26-4813-8e84-58127413eff4",
   "metadata": {},
   "source": [
    "**Objectives:**\n",
    "\n",
    "- List popular languages for Data Science.\n",
    "- List commonly used libraries in Data Science.\n",
    "- Introduce and explain arithmetic operations in Python.\n",
    "- Demonstrate converting minutes to hours in Python.\n",
    "- Provide an overview of data science tools and ecosystems.\n"
   ]
  },
  {
   "cell_type": "markdown",
   "id": "555511bd-7904-4351-b9d6-cc8a63a4d812",
   "metadata": {},
   "source": [
    "Some of the popular languages that Data Scientists use are:\n",
    "\n",
    "1. Python\n",
    "2. R\n",
    "3. SQL\n",
    "4. Julia"
   ]
  },
  {
   "cell_type": "markdown",
   "id": "9dd01675-dd01-42df-8ced-0f541f88e1d2",
   "metadata": {},
   "source": [
    "Some of the commonly used libraries used by Data Scientists include:\n",
    "\n",
    "1. Pandas\n",
    "2. NumPy\n",
    "3. Matplotlib\n",
    "4. Scikit-learn\n"
   ]
  },
  {
   "cell_type": "markdown",
   "id": "c256fde5-2b16-46d1-8f46-3644373c22e4",
   "metadata": {},
   "source": [
    "| Data Science Tools |\n",
    "|--------------------|\n",
    "| Jupyter Notebook   |\n",
    "| RStudio            |\n",
    "| Apache Zeppelin    |"
   ]
  },
  {
   "cell_type": "markdown",
   "id": "518f1f8f-3bff-427e-be55-9684d1b90d41",
   "metadata": {},
   "source": [
    "### Below are a few examples of evaluating arithmetic expressions in Python."
   ]
  },
  {
   "cell_type": "code",
   "execution_count": 1,
   "id": "105a0fd8-9115-4327-84ae-72bc550a8079",
   "metadata": {},
   "outputs": [
    {
     "data": {
      "text/plain": [
       "17"
      ]
     },
     "execution_count": 1,
     "metadata": {},
     "output_type": "execute_result"
    }
   ],
   "source": [
    "# This is a simple arithmetic expression to multiply then add integers.\n",
    "result = (3 * 4) + 5\n",
    "result"
   ]
  },
  {
   "cell_type": "code",
   "execution_count": 2,
   "id": "87444209-14e4-4bfc-ae97-382c1df6d7e8",
   "metadata": {},
   "outputs": [
    {
     "data": {
      "text/plain": [
       "3.3333333333333335"
      ]
     },
     "execution_count": 2,
     "metadata": {},
     "output_type": "execute_result"
    }
   ],
   "source": [
    "minutes = 200\n",
    "hours = minutes / 60\n",
    "hours\n"
   ]
  },
  {
   "cell_type": "markdown",
   "id": "f55338fd-c2d9-4914-8fac-03f656efa597",
   "metadata": {},
   "source": [
    "## Author\n",
    "\n",
    "Akanksha bansal\n"
   ]
  },
  {
   "cell_type": "code",
   "execution_count": null,
   "id": "deff68d9-9332-47a5-a06c-5369f778577d",
   "metadata": {},
   "outputs": [],
   "source": []
  }
 ],
 "metadata": {
  "kernelspec": {
   "display_name": "Python 3 (ipykernel)",
   "language": "python",
   "name": "python3"
  },
  "language_info": {
   "codemirror_mode": {
    "name": "ipython",
    "version": 3
   },
   "file_extension": ".py",
   "mimetype": "text/x-python",
   "name": "python",
   "nbconvert_exporter": "python",
   "pygments_lexer": "ipython3",
   "version": "3.11.9"
  }
 },
 "nbformat": 4,
 "nbformat_minor": 5
}
